{
 "cells": [
  {
   "cell_type": "code",
   "execution_count": null,
   "metadata": {
    "colab": {
     "base_uri": "https://localhost:8080/",
     "height": 1000
    },
    "id": "YG55sS_icXEO",
    "outputId": "99cd227c-ae0d-453e-a5d0-2014a6c4d12d"
   },
   "outputs": [],
   "source": [
    "!pip3 -q install chromadb langchain tiktoken\n",
    "!pip3 install langchain-community\n",
    "!pip3 install huggingface\n",
    "!pip3 install sentence-transformers\n",
    "!pip3 install keras==2.11.0\n",
    "!wget -q https://www.dropbox.com/s/vs6ocyvpzzncvwh/new_articles.zip\n",
    "!unzip -q new_articles.zip -d new_articles\n",
    "!pip install transformers accelerate einops --upgrade\n",
    "!pip install langchain_community"
   ]
  },
  {
   "cell_type": "code",
   "execution_count": null,
   "metadata": {
    "colab": {
     "base_uri": "https://localhost:8080/",
     "height": 525,
     "referenced_widgets": [
      "d75402568a7d40a2ad5f07b2e9d01494",
      "51daa3989f22484d8eb860759e7214ea",
      "815ac8255b8445b1928652b9a68ca509",
      "1b6a4e58e38c4be0a361e3c0471333f2",
      "14e77650e0464244a129f266ec7ff249",
      "5aaf8daa70294c2ab36af479dc596b94",
      "22e02a42279e488998dcda350043e62c",
      "d7819c804470413292f5daa064b59f32",
      "fa86029e629f405a9b95bbf9bdc743ab",
      "e985bdf1ef474fdd8ef1315bad9dea8c",
      "20082b13589e46c1b83ee43563b62ab1",
      "9d0df37c22cd4776bb1befe4189a89de",
      "6fabfe5609754bcf8d54a76d92313b6f",
      "21be376d84284764a0db06d91094231a",
      "915d974071c54a219c4b4bc4e1783488",
      "2089fae608ae4048a9ac00d6540757d2",
      "fa00eea0516741759294783e426d6e46",
      "6fa54eee5a71436ea5291c2993c16315",
      "03a1ccd6fc0e47c180367e428177351d",
      "c63c288e0cd74536b15afede90ce140a",
      "2a3e88d97f324361a113f84dd1de96f4",
      "0c9ae703deb842f9987d90e6e81f0a54",
      "add9beb3db2c49da986a05ead7d69f08",
      "66f0cd2fd7e94eeab583f98cac3f6d13",
      "80e21d6430534fd39125cba96a8b7643",
      "57de86fd57794612ac16b2a718eb2ba7",
      "279d232b517f4237b7660bdbd615b8b8",
      "326d4a3e231646bfa61f829417a40828",
      "2c4c156df36e4f058dc35c4451bdce54",
      "ddf5118ac2434d4094ad68cf1322fdaf",
      "0bd64d402e9f40219c9fb66ce8098852",
      "64bb2bf9bd844ad4b0208369b4fbecfa",
      "16ca2ee66e03422ebd2fe7c45575ccd4",
      "0769ed9b05ad4222a84f3e9899a9b352",
      "79af6dad3d114038875e1beacbff2137",
      "9b146b1c3d934b71b15f7b4b376ee247",
      "ee586213044c48f1904112355f6d48da",
      "7e41f105577049888f1250e4847edd65",
      "3ed6a980d1574c69a2f7a5c30bdd74fc",
      "0c106f79e8a74678b227863edbe7daf0",
      "7e231b98907745feabb68f22c85e64c3",
      "4df77631280642a19b904e5735e6469e",
      "046a65b961d14c9e85e7e268bbf541db",
      "86a9dc2f41fd487ea562e33fe76fd0a4",
      "e6463e2f3eee46d097c4f43f05740bc7",
      "9364cfdd6f4448c39233bb3c3423d4a3",
      "c7750559b3454f8cb59a70fb450b39cf",
      "4f9bd8a0d34a4adf9f1cfa5b2cc1ef8f",
      "be18c38b92fb4f98a669abddac623001",
      "906d3cbc2b8d47a398225a858a8f5a5f",
      "66e2d318df98495db053d21355b99944",
      "d4812f6490d544fb9bff39cdb036a39e",
      "8370a80156a04ef080138517c032effc",
      "77ca23949b094d5bbf8c2f66b321b874",
      "54c1c9e3a123458b86d6ca4a576d86bb",
      "82b8e352d4354199a1180fcf0e59cdc8",
      "e3507970aa0e4a929cd5796b0e6380ac",
      "4ccba41491a84c0fb0e1fb80cf524826",
      "40242c1358c94104ac5a0dc5c79d96f1",
      "c085bd419abd46d9ac0fcc5c99410070",
      "161ad46f6b884b639898015a09190753",
      "39a093e611e649a891c466f4cdb1d03e",
      "c9af673af4794c03a46d98225bd3765d",
      "5de99aa4396e42d591ca09712fad18af",
      "e309ea4b38864be28a5f87ed565c8f50",
      "2e039ed0897d45298b1e3b55401275be",
      "ee80d26b1db84e59afcb7b1f23b938f8",
      "1eedc6ad9dfe4d5880093375a31bef1c",
      "cc5f48edd69346d994d38971fcb2a79e",
      "3cac6afef5da45e5bad4110dd25e7b29",
      "c6ea43e892824b9e97388adfdc3667c6",
      "81062d99fc354104821be1f093c226f4",
      "595ca8da61f742c7a3f1ad5bbb1e4e09",
      "ba62cea7cdb1457c8dcd87d277cb0afa",
      "d08a00a56f514210a9370bb6cdec71be",
      "bb72d84a0b934d87847424441dc376e9",
      "7052b296df464d98ab80c495ecd8405b",
      "460d9214842c49759a32bb5a85580eea",
      "8cc779ce9ed94ed886cd4b0e8ef75126",
      "066d8c81bd7143aabe22bc790764a536",
      "b29728bbf1564d80ad8a2ac38f012580",
      "cbb302c5750c4458803ecc00ba0be876",
      "bf3010c5207d477fb96c878ccc00bcd2",
      "fb8aa53f223e4c8fa4b2899c3a9a5607",
      "d2844ff6b71944e1b5ff97c7ee384c58",
      "7fad321d20394534a4468fcc67099e1c",
      "56dde8285a8141da92cc3361ee63d81c",
      "816d4d7ed2a548788f54eb00d6911d2e",
      "740424c2669947dca741e15050fec29b",
      "395fd55d523e4e40b6be356d502978b7",
      "c99c364597dc44ce91cb5e76b929411e",
      "83a22c0a09a8423b82d953ea3a8d492e",
      "f6fdb45755674381b82fbd352f49c2fe",
      "5622b9447f6e4a1f8ded6faa4cf13b60",
      "9d780b75243e4e6da5615252c9a08d17",
      "6c418294eb6b4ee1a29062d4257a8aa0",
      "a3100c3689614b649862b1a46cbfc7f1",
      "b5935f4c19184135ab7d0f0513edc98f",
      "a7213a4a821c4cd08974ff1468edf901",
      "5c908f08fb3444c1b597f12c2c473e1f",
      "9530ece7db444db29accd3c4eb59a6ab",
      "9647af9a178c4e52bbfe83889c86a59d",
      "cd158fd1b199466d82fe93b1c3cd1dde",
      "dc8173e4feb949e788e74b36249f158b",
      "7824aad6b1804e43957794c30ce0f0f0",
      "dccf273fab4240728b846cb8243b976a",
      "43d6467d6ee344c68e8b8f3013c12947",
      "c6d81ae363ee453a98f9716ad00e9b57",
      "ca817afd43164104912d2ef8a0e0cbdf",
      "5194cd4153324a55afad502c03dd339d",
      "66de80531103422eabaa6e9d9a6cb045",
      "9f664929f77b41b39a277545e2c53694",
      "14a016522eb24e289584d6ed945b3c12",
      "a28c4a10b78a49d09bf8a56204ea8140",
      "84177c6f0dbd475f946cca13f6b5f14f",
      "43f24b2d5d6048ba961992b1811489a2",
      "6ad390166a3b480390c4553d596e17d0",
      "4269a4626d164da4a2fdea19fab4f349",
      "4eac462527304ba39170c86c5eb144f4",
      "1c5e5b46d3a84486865866789601b7c5",
      "5842c77de14142eabe93504bc29845eb"
     ]
    },
    "id": "UXJv89v4cZAw",
    "outputId": "e150998e-e160-4814-e366-ea9a47505780"
   },
   "outputs": [],
   "source": [
    "import chromadb\n",
    "from langchain.embeddings import HuggingFaceEmbeddings\n",
    "embeddings = HuggingFaceEmbeddings(model_name=\"all-MiniLM-L6-v2\")\n"
   ]
  },
  {
   "cell_type": "code",
   "execution_count": null,
   "metadata": {
    "id": "N5coyqwUfMJr"
   },
   "outputs": [],
   "source": [
    "from langchain.vectorstores import Chroma\n",
    "from langchain.document_loaders import DirectoryLoader,TextLoader"
   ]
  },
  {
   "cell_type": "code",
   "execution_count": null,
   "metadata": {
    "id": "y1FUNRp4pC3O"
   },
   "outputs": [],
   "source": [
    "loader = DirectoryLoader(\"/content/new_articles\",glob=\"./*.txt\",loader_cls=TextLoader)\n",
    "document=loader.load()"
   ]
  },
  {
   "cell_type": "code",
   "execution_count": null,
   "metadata": {
    "colab": {
     "base_uri": "https://localhost:8080/"
    },
    "id": "UxBA6nzY2hMX",
    "outputId": "95760624-2807-40c1-e49b-5b7560b9ac21"
   },
   "outputs": [],
   "source": [
    "from transformers import AutoTokenizer, AutoModelForCausalLM ,BitsAndBytesConfig,pipeline\n",
    "from langchain.llms import HuggingFacePipeline\n",
    "import torch\n",
    "\n",
    "model_name = \"TinyLlama/TinyLlama-1.1B-Chat-v1.0\"\n",
    "\n",
    "# Load model and tokenizer\n",
    "tokenizer = AutoTokenizer.from_pretrained(model_name, trust_remote_code=True)\n",
    "\n",
    "model = AutoModelForCausalLM.from_pretrained(\n",
    "    model_name,\n",
    "    torch_dtype=torch.float32\n",
    ").to(\"cuda\")\n",
    "\n",
    "# Create the text-generation pipeline\n",
    "text_gen_pipeline = pipeline(\n",
    "    \"text-generation\",\n",
    "    model=model,\n",
    "    tokenizer=tokenizer,\n",
    "    max_new_tokens=250,\n",
    "    temperature=0.7,\n",
    "    top_p=0.95,\n",
    "    repetition_penalty=1.1\n",
    ")\n",
    "\n",
    "# Wrap the pipeline for LangChain\n",
    "llm = HuggingFacePipeline(pipeline=text_gen_pipeline)"
   ]
  },
  {
   "cell_type": "code",
   "execution_count": null,
   "metadata": {
    "id": "SpHPLbx03tPm"
   },
   "outputs": [],
   "source": [
    "from langchain.text_splitter import RecursiveCharacterTextSplitter\n",
    "\n",
    "from langchain.text_splitter import RecursiveCharacterTextSplitter\n",
    "\n",
    "splitter = RecursiveCharacterTextSplitter(\n",
    "    chunk_size=512,\n",
    "    chunk_overlap=100,\n",
    "    length_function=len  # this should return an integer\n",
    ")\n"
   ]
  },
  {
   "cell_type": "code",
   "execution_count": null,
   "metadata": {
    "id": "KLriRHy55sHw"
   },
   "outputs": [],
   "source": [
    "text=splitter.split_documents(document)"
   ]
  },
  {
   "cell_type": "code",
   "execution_count": null,
   "metadata": {
    "colab": {
     "base_uri": "https://localhost:8080/"
    },
    "id": "KUi5HEcW6Bkv",
    "outputId": "ec36bf40-339d-420d-8a24-dc258bd55a9c"
   },
   "outputs": [],
   "source": [
    "len(text)"
   ]
  },
  {
   "cell_type": "markdown",
   "metadata": {
    "id": "teTKamZT600e"
   },
   "source": [
    "**Creating db**"
   ]
  },
  {
   "cell_type": "code",
   "execution_count": null,
   "metadata": {
    "id": "oWrCeWwP7ENJ"
   },
   "outputs": [],
   "source": [
    "from langchain.embeddings import HuggingFaceEmbeddings\n",
    "persist_directory=\"db\"\n",
    "embedding_model = HuggingFaceEmbeddings(\n",
    "    model_name=\"sentence-transformers/all-MiniLM-L6-v2\"\n",
    ")\n",
    "vector_db = Chroma.from_documents(\n",
    "    documents=text,\n",
    "    embedding=embedding_model,\n",
    "    persist_directory=persist_directory\n",
    ")"
   ]
  },
  {
   "cell_type": "code",
   "execution_count": null,
   "metadata": {
    "colab": {
     "base_uri": "https://localhost:8080/"
    },
    "id": "NpK6e4bx7QD0",
    "outputId": "05e2fc8c-4787-4faa-f5d9-6691772348cc"
   },
   "outputs": [],
   "source": [
    "vector_db.persist()\n",
    "vector_db=None"
   ]
  },
  {
   "cell_type": "code",
   "execution_count": null,
   "metadata": {
    "colab": {
     "base_uri": "https://localhost:8080/"
    },
    "id": "tBz7oKee8IUH",
    "outputId": "0d3e0115-64cb-44aa-c958-a9df9a9e99c0"
   },
   "outputs": [],
   "source": [
    "#to load the data from persist directory\n",
    "\n",
    "vectordb = Chroma(\n",
    "    persist_directory=persist_directory,\n",
    "    embedding_function=embedding_model\n",
    ")"
   ]
  },
  {
   "cell_type": "code",
   "execution_count": null,
   "metadata": {
    "colab": {
     "base_uri": "https://localhost:8080/"
    },
    "id": "CB1Ds9UX-0Ua",
    "outputId": "211a5244-3ea0-458e-9249-86d4f49e4b47"
   },
   "outputs": [],
   "source": [
    "vectordb.similarity_search(\"AI\",k=2)"
   ]
  },
  {
   "cell_type": "code",
   "execution_count": null,
   "metadata": {
    "id": "2qRcFJBw-_MP"
   },
   "outputs": [],
   "source": [
    "#initialize a retriever\n",
    "\n",
    "retriever = vectordb.as_retriever(search_kwargs={\"k\":4})\n"
   ]
  },
  {
   "cell_type": "code",
   "execution_count": null,
   "metadata": {
    "colab": {
     "base_uri": "https://localhost:8080/"
    },
    "id": "2PepbPOZ_TYa",
    "outputId": "1b789fd9-3459-41a7-a94b-8d8075ed4808"
   },
   "outputs": [],
   "source": [
    "docs=retriever.get_relevant_documents(\"hello there tell me about genetative ai\")"
   ]
  },
  {
   "cell_type": "code",
   "execution_count": null,
   "metadata": {
    "colab": {
     "base_uri": "https://localhost:8080/"
    },
    "id": "BpMJnTtZ_h6N",
    "outputId": "a9f49420-0a95-4f93-dfe3-1eea4ba220d8"
   },
   "outputs": [],
   "source": [
    "len(docs)"
   ]
  },
  {
   "cell_type": "code",
   "execution_count": null,
   "metadata": {
    "id": "E66sF4jU_sUt"
   },
   "outputs": [],
   "source": [
    "from langchain.chains import RetrievalQA\n",
    "qa_chain = RetrievalQA.from_chain_type(\n",
    "    llm=llm,\n",
    "    retriever=retriever,\n",
    "    chain_type=\"stuff\",\n",
    "    return_source_documents=True\n",
    ")"
   ]
  },
  {
   "cell_type": "code",
   "execution_count": null,
   "metadata": {
    "colab": {
     "base_uri": "https://localhost:8080/",
     "height": 171
    },
    "id": "CpB3vvaVBvWz",
    "outputId": "bfd89fcf-2b88-4f9b-f782-d15146cb0c6c"
   },
   "outputs": [],
   "source": [
    "query=\"what is the news about pando\"\n",
    "llm_response = qa_chain(query)\n",
    "llm_response[\"result\"][164::]"
   ]
  },
  {
   "cell_type": "code",
   "execution_count": null,
   "metadata": {
    "colab": {
     "base_uri": "https://localhost:8080/"
    },
    "id": "kCF7xW0oHxe6",
    "outputId": "432423f3-2a64-4c12-fcf6-637b4c416f1a"
   },
   "outputs": [],
   "source": [
    "len(\"Use the following pieces of context to answer the question at the end. If you don't know the answer, just say that you don't know, don't try to make up an answer.\\n\\n\")"
   ]
  },
  {
   "cell_type": "code",
   "execution_count": null,
   "metadata": {
    "colab": {
     "base_uri": "https://localhost:8080/"
    },
    "id": "oKLsq5-MJhC0",
    "outputId": "746ae856-a1e2-471c-b268-37e0a9323d8c"
   },
   "outputs": [],
   "source": [
    "llm.generate(prompts=[\"hello llm , how are you\"])"
   ]
  },
  {
   "cell_type": "code",
   "execution_count": null,
   "metadata": {
    "id": "NiZvGw_sKvkK"
   },
   "outputs": [],
   "source": []
  }
 ],
 "metadata": {
  "accelerator": "GPU",
  "colab": {
   "gpuType": "T4",
   "provenance": []
  },
  "kernelspec": {
   "display_name": "Python 3",
   "name": "python3"
  },
  "language_info": {
   "name": "python"
  }
 },
 "nbformat": 4,
 "nbformat_minor": 0
}
